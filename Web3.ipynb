{
  "nbformat": 4,
  "nbformat_minor": 0,
  "metadata": {
    "colab": {
      "provenance": [],
      "authorship_tag": "ABX9TyNi1GPy+YGtMSuiQKnSOG5/",
      "include_colab_link": true
    },
    "kernelspec": {
      "name": "python3",
      "display_name": "Python 3"
    },
    "language_info": {
      "name": "python"
    }
  },
  "cells": [
    {
      "cell_type": "markdown",
      "metadata": {
        "id": "view-in-github",
        "colab_type": "text"
      },
      "source": [
        "<a href=\"https://colab.research.google.com/github/aryannewyork/BlockFed/blob/master/Web3.ipynb\" target=\"_parent\"><img src=\"https://colab.research.google.com/assets/colab-badge.svg\" alt=\"Open In Colab\"/></a>"
      ]
    },
    {
      "cell_type": "code",
      "execution_count": null,
      "metadata": {
        "id": "03pJaY8uj33s"
      },
      "outputs": [],
      "source": [
        "!pip install web3"
      ]
    },
    {
      "cell_type": "code",
      "source": [
        "!pip install --force-reinstall jsonschema==3.2.0"
      ],
      "metadata": {
        "id": "wR_9Rr00kYaR"
      },
      "execution_count": null,
      "outputs": []
    },
    {
      "cell_type": "code",
      "source": [
        "import time\n",
        "from web3 import Web3"
      ],
      "metadata": {
        "id": "UPgaPcebkeU2"
      },
      "execution_count": null,
      "outputs": []
    },
    {
      "cell_type": "code",
      "source": [
        "web3 = Web3(Web3.HTTPProvider(\"https://sepolia.infura.io/v3/5ba2715a3ef74bfc8da221c19851574d\"))"
      ],
      "metadata": {
        "id": "qU25XntloMRW"
      },
      "execution_count": 144,
      "outputs": []
    },
    {
      "cell_type": "code",
      "source": [
        "contract_address = '0x044197d7F4ef360E68a30Bbf12586B65f3770126'\n",
        "wallet_address = '0x09750F3e65bBA855AA69cD33877015b02E4Ac16E'\n",
        "wallet_private_key = 'f06c206f2e21d1f5a6299e3f676dbb2cd26f8ffa993addaa8cc51d50a2798150'"
      ],
      "metadata": {
        "id": "r0MpGYI0oft3"
      },
      "execution_count": 145,
      "outputs": []
    },
    {
      "cell_type": "code",
      "source": [
        "#@title ABI Value\n",
        "abi = \"\"\"\n",
        "[\n",
        "\t{\n",
        "\t\t\"inputs\": [\n",
        "\t\t\t{\n",
        "\t\t\t\t\"internalType\": \"uint256\",\n",
        "\t\t\t\t\"name\": \"ind\",\n",
        "\t\t\t\t\"type\": \"uint256\"\n",
        "\t\t\t},\n",
        "\t\t\t{\n",
        "\t\t\t\t\"internalType\": \"string\",\n",
        "\t\t\t\t\"name\": \"para\",\n",
        "\t\t\t\t\"type\": \"string\"\n",
        "\t\t\t}\n",
        "\t\t],\n",
        "\t\t\"name\": \"data_post\",\n",
        "\t\t\"outputs\": [],\n",
        "\t\t\"stateMutability\": \"payable\",\n",
        "\t\t\"type\": \"function\"\n",
        "\t},\n",
        "\t{\n",
        "\t\t\"inputs\": [],\n",
        "\t\t\"name\": \"data_request\",\n",
        "\t\t\"outputs\": [],\n",
        "\t\t\"stateMutability\": \"payable\",\n",
        "\t\t\"type\": \"function\"\n",
        "\t},\n",
        "\t{\n",
        "\t\t\"inputs\": [],\n",
        "\t\t\"name\": \"makemeclient\",\n",
        "\t\t\"outputs\": [],\n",
        "\t\t\"stateMutability\": \"nonpayable\",\n",
        "\t\t\"type\": \"function\"\n",
        "\t},\n",
        "\t{\n",
        "\t\t\"inputs\": [\n",
        "\t\t\t{\n",
        "\t\t\t\t\"internalType\": \"uint256\",\n",
        "\t\t\t\t\"name\": \"ind\",\n",
        "\t\t\t\t\"type\": \"uint256\"\n",
        "\t\t\t}\n",
        "\t\t],\n",
        "\t\t\"name\": \"model_aggregation\",\n",
        "\t\t\"outputs\": [],\n",
        "\t\t\"stateMutability\": \"payable\",\n",
        "\t\t\"type\": \"function\"\n",
        "\t},\n",
        "\t{\n",
        "\t\t\"inputs\": [],\n",
        "\t\t\"stateMutability\": \"nonpayable\",\n",
        "\t\t\"type\": \"constructor\"\n",
        "\t},\n",
        "\t{\n",
        "\t\t\"inputs\": [],\n",
        "\t\t\"name\": \"owner\",\n",
        "\t\t\"outputs\": [\n",
        "\t\t\t{\n",
        "\t\t\t\t\"internalType\": \"address payable\",\n",
        "\t\t\t\t\"name\": \"\",\n",
        "\t\t\t\t\"type\": \"address\"\n",
        "\t\t\t}\n",
        "\t\t],\n",
        "\t\t\"stateMutability\": \"view\",\n",
        "\t\t\"type\": \"function\"\n",
        "\t}\n",
        "]\n",
        "\"\"\""
      ],
      "metadata": {
        "id": "lssLZX6CsF2h"
      },
      "execution_count": 146,
      "outputs": []
    },
    {
      "cell_type": "code",
      "source": [
        "contract = web3.eth.contract(address = contract_address, abi = abi)"
      ],
      "metadata": {
        "id": "I_B5v64ssAmP"
      },
      "execution_count": 147,
      "outputs": []
    },
    {
      "cell_type": "code",
      "source": [
        "def data_post():\n",
        "  nonce = web3.eth.get_transaction_count(wallet_address)\n",
        "  buildData = {\n",
        "      'from': wallet_address,\n",
        "      'chainId': 11155111,\n",
        "      'gas': 400000,\n",
        "      'gasPrice': web3.to_wei('40', 'gwei'),\n",
        "      'nonce': nonce,\n",
        "  }\n",
        "  txn_dict = contract.functions.makemeclient().build_transaction(buildData)\n",
        "  signed_txn = web3.eth.account.sign_transaction(txn_dict, wallet_private_key)\n",
        "  # https://web3py.readthedocs.io/en/stable/transactions.html\n",
        "  tx_hash = web3.eth.send_raw_transaction(signed_txn.rawTransaction)\n",
        "  Loop = 0\n",
        "  while(Loop < 10):\n",
        "    try:\n",
        "      tx_receipt = web3.eth.get_transaction_receipt(tx_hash)\n",
        "      print(tx_receipt)\n",
        "      break\n",
        "    except:\n",
        "      print('Waiting')\n",
        "      time.sleep(10)\n",
        "      Loop += 1\n",
        "\n",
        "data_post()"
      ],
      "metadata": {
        "id": "jO4o96E-zWyI",
        "colab": {
          "base_uri": "https://localhost:8080/"
        },
        "outputId": "a9603dd4-d511-4978-e97c-41c69a85a062"
      },
      "execution_count": 151,
      "outputs": [
        {
          "output_type": "stream",
          "name": "stdout",
          "text": [
            "Waiting\n",
            "AttributeDict({'blockHash': HexBytes('0x3b316e551601121054beab7c7d94e81acc9ebdb66116a1dcc5ef827002d43442'), 'blockNumber': 3726734, 'contractAddress': None, 'cumulativeGasUsed': 71007, 'effectiveGasPrice': 40000000000, 'from': '0x09750F3e65bBA855AA69cD33877015b02E4Ac16E', 'gasUsed': 71007, 'logs': [], 'logsBloom': HexBytes('0x00000000000000000000000000000000000000000000000000000000000000000000000000000000000000000000000000000000000000000000000000000000000000000000000000000000000000000000000000000000000000000000000000000000000000000000000000000000000000000000000000000000000000000000000000000000000000000000000000000000000000000000000000000000000000000000000000000000000000000000000000000000000000000000000000000000000000000000000000000000000000000000000000000000000000000000000000000000000000000000000000000000000000000000000000000000'), 'status': 1, 'to': '0x044197d7F4ef360E68a30Bbf12586B65f3770126', 'transactionHash': HexBytes('0x0b28f819345d3a84f0e4951f15723d6f7d8c8df45cd8a08869bc8c69491aea30'), 'transactionIndex': 0, 'type': 0})\n"
          ]
        }
      ]
    },
    {
      "cell_type": "code",
      "source": [],
      "metadata": {
        "id": "wW_ZlTSyXugL"
      },
      "execution_count": null,
      "outputs": []
    }
  ]
}