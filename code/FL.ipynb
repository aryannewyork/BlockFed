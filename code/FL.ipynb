{
  "cells": [
    {
      "cell_type": "markdown",
      "metadata": {
        "id": "6YH5e8QHUeW_"
      },
      "source": [
        "## Setting Up Libraries and Packages"
      ]
    },
    {
      "cell_type": "code",
      "execution_count": null,
      "metadata": {
        "id": "Bkeb4FbaVs3j"
      },
      "outputs": [],
      "source": [
        "!pip install web3\n",
        "!pip install --force-reinstall jsonschema==3.2.0\n",
        "exit()"
      ]
    },
    {
      "cell_type": "code",
      "execution_count": null,
      "metadata": {
        "id": "VtK9TwyAXMvX"
      },
      "outputs": [],
      "source": [
        "!pip install kora -q"
      ]
    },
    {
      "cell_type": "code",
      "execution_count": null,
      "metadata": {
        "id": "QBMyasGuXO5I"
      },
      "outputs": [],
      "source": [
        "from kora import drive\n",
        "drive.link_nbs()"
      ]
    },
    {
      "cell_type": "code",
      "execution_count": null,
      "metadata": {
        "id": "jkL5eDTWXStP"
      },
      "outputs": [],
      "source": [
        "from flutils import *"
      ]
    },
    {
      "cell_type": "code",
      "execution_count": null,
      "metadata": {
        "id": "ypaiurMKVtAS"
      },
      "outputs": [],
      "source": [
        "from SmartContractInteraction import *"
      ]
    },
    {
      "cell_type": "markdown",
      "metadata": {
        "id": "fGX220VaX31P"
      },
      "source": [
        "## Making Clients (registering them to the smart contract)"
      ]
    },
    {
      "cell_type": "code",
      "execution_count": null,
      "metadata": {
        "id": "KmomiMecX3FX"
      },
      "outputs": [],
      "source": [
        "for i in range(NUM_ACCOUNTS):\n",
        "  print('Creating Client', i+1)\n",
        "  make_me_client(acc_add[i], acc_pk[i])"
      ]
    },
    {
      "cell_type": "code",
      "execution_count": null,
      "metadata": {
        "colab": {
          "base_uri": "https://localhost:8080/"
        },
        "id": "sa1oWDtPYAp-",
        "outputId": "fdbb68ec-b4b2-405e-8b34-2d7672aec827"
      },
      "outputs": [
        {
          "name": "stdout",
          "output_type": "stream",
          "text": [
            "AttributeDict({'transactionHash': HexBytes('0xa704312790a193634611ccde14cf23abb87c80ed29b06f3f391fdb6d1c1e7dfc'), 'transactionIndex': 0, 'blockHash': HexBytes('0x0f9749058754f6c49d844fb93c4b21634c4d400df95a3575936f65a037ab3a81'), 'blockNumber': 203, 'from': '0xe3058e84df37C4404bDBF2467Ed0b21bF82489Ed', 'to': '0x56A84Ba5A9BACa1f3aD79da38c0e2B4efF624273', 'gasUsed': 62107, 'cumulativeGasUsed': 62107, 'contractAddress': None, 'logs': [], 'status': 1, 'logsBloom': HexBytes('0x00000000000000000000000000000000000000000000000000000000000000000000000000000000000000000000000000000000000000000000000000000000000000000000000000000000000000000000000000000000000000000000000000000000000000000000000000000000000000000000000000000000000000000000000000000000000000000000000000000000000000000000000000000000000000000000000000000000000000000000000000000000000000000000000000000000000000000000000000000000000000000000000000000000000000000000000000000000000000000000000000000000000000000000000000000000')})\n"
          ]
        }
      ],
      "source": [
        "data_request(acc_add[0], acc_pk[0])"
      ]
    },
    {
      "cell_type": "markdown",
      "metadata": {
        "id": "H8Q8cItXYDel"
      },
      "source": [
        "## Trainer Clients Posting data after training"
      ]
    },
    {
      "cell_type": "markdown",
      "metadata": {
        "id": "4uL_44EbYMPl"
      },
      "source": [
        "## Aggregator Clients"
      ]
    },
    {
      "cell_type": "code",
      "execution_count": null,
      "metadata": {
        "id": "a_89GimAYN_-"
      },
      "outputs": [],
      "source": [
        "for i in range(len(account_addresses)-1, -1, -1):\n",
        "  print('Client', i+1, 'aggregating data')\n",
        "  model_aggregation(account_addresses[i], private_keys[i])"
      ]
    },
    {
      "cell_type": "code",
      "execution_count": null,
      "metadata": {
        "id": "vnUlMle3RoJK"
      },
      "outputs": [],
      "source": [
        "import numpy as np\n",
        "import random\n",
        "import os\n",
        "from sklearn.model_selection import train_test_split\n",
        "from sklearn.preprocessing import LabelBinarizer\n",
        "from sklearn.model_selection import train_test_split\n",
        "from sklearn.utils import shuffle\n",
        "from sklearn.metrics import accuracy_score\n",
        "from tqdm import tqdm\n",
        "import time\n",
        "\n",
        "import tensorflow as tf\n",
        "from tensorflow.keras.models import Sequential\n",
        "from tensorflow.keras.layers import Conv2D\n",
        "from tensorflow.keras.layers import MaxPooling2D\n",
        "from tensorflow.keras.layers import Activation\n",
        "from tensorflow.keras.layers import Flatten\n",
        "from tensorflow.keras.layers import Dense\n",
        "from tensorflow.keras.optimizers.legacy import SGD\n",
        "from tensorflow.keras import backend as K"
      ]
    },
    {
      "cell_type": "markdown",
      "metadata": {
        "id": "Lo74IltCUqP1"
      },
      "source": [
        "## Loading and Processing Dataset"
      ]
    },
    {
      "cell_type": "code",
      "execution_count": null,
      "metadata": {
        "id": "XTFAyXKzRr05"
      },
      "outputs": [],
      "source": [
        "data_path = '/content/drive/MyDrive/Datasets/swarm_aligned'"
      ]
    },
    {
      "cell_type": "code",
      "execution_count": null,
      "metadata": {
        "id": "azIUV5RaUT3K"
      },
      "outputs": [],
      "source": [
        "#apply our function\n",
        "data_list, label_list = load(data_path)\n",
        "labels = list(set(label_list.tolist())) #unique labels\n",
        "\n",
        "#binarize the labels\n",
        "#lb = LabelBinarizer()\n",
        "#label_list = lb.fit_transform(label_list)\n",
        "n_values = np.max(label_list) + 1\n",
        "label_list = np.eye(n_values)[label_list]"
      ]
    },
    {
      "cell_type": "code",
      "execution_count": null,
      "metadata": {
        "id": "kW_Hi6s8UbuP"
      },
      "outputs": [],
      "source": [
        "#split data into training and test set\n",
        "X_train, X_test, y_train, y_test = train_test_split(data_list,\n",
        "                                                    label_list,\n",
        "                                                    test_size=0.2,\n",
        "                                                    random_state=7)"
      ]
    },
    {
      "cell_type": "markdown",
      "metadata": {
        "id": "9mJ1P3WYUxwI"
      },
      "source": [
        "## Creating Clients to Participate in FL"
      ]
    },
    {
      "cell_type": "code",
      "execution_count": null,
      "metadata": {
        "id": "Tb8aUxdxWilZ"
      },
      "outputs": [],
      "source": [
        "#create clients\n",
        "clients = create_clients(X_train, y_train, num_clients=100, initial='client')"
      ]
    },
    {
      "cell_type": "code",
      "execution_count": null,
      "metadata": {
        "id": "Lj-GiP2MWmd7"
      },
      "outputs": [],
      "source": [
        "#process and batch the training data for each client\n",
        "clients_batched = dict()\n",
        "for (client_name, data) in clients.items():\n",
        "    clients_batched[client_name] = batch_data(data)\n",
        "\n",
        "#process and batch the test set\n",
        "test_batched = tf.data.Dataset.from_tensor_slices((X_test, y_test)).batch(len(y_test))\n",
        "\n",
        "comms_round = 5 #number of global epochs\n"
      ]
    },
    {
      "cell_type": "markdown",
      "metadata": {
        "id": "eoZnxKF0VB1Q"
      },
      "source": [
        "## Creating Optimizer (To Perform Gradient Descent)"
      ]
    },
    {
      "cell_type": "code",
      "execution_count": null,
      "metadata": {
        "id": "prqEXphiWspZ"
      },
      "outputs": [],
      "source": [
        "#create optimizer\n",
        "lr = 0.01\n",
        "loss='categorical_crossentropy'\n",
        "metrics = ['accuracy']\n",
        "optimizer = SGD(learning_rate=lr,\n",
        "                decay=lr / comms_round,\n",
        "                momentum=0.9\n",
        "               )\n",
        "\n",
        "#initialize global model\n",
        "#print(data_list.shape,labels)\n",
        "smlp_global = SimpleMLP()\n",
        "global_model = smlp_global.build(data_list.shape[1],len(labels))"
      ]
    },
    {
      "cell_type": "code",
      "execution_count": null,
      "metadata": {
        "id": "owNfi6yv620P"
      },
      "outputs": [],
      "source": [
        "print(global_model.get_weights())"
      ]
    },
    {
      "cell_type": "code",
      "execution_count": null,
      "metadata": {
        "colab": {
          "base_uri": "https://localhost:8080/"
        },
        "id": "SwHOYkn_7rvj",
        "outputId": "d09e3646-6e17-46f3-afb6-1e06520c9e20"
      },
      "outputs": [
        {
          "data": {
            "text/plain": [
              "32"
            ]
          },
          "execution_count": 27,
          "metadata": {},
          "output_type": "execute_result"
        }
      ],
      "source": [
        "list(clients_batched['client_1'])[0][0].shape[0]"
      ]
    },
    {
      "cell_type": "markdown",
      "metadata": {
        "id": "Eylff1q5Vjla"
      },
      "source": [
        "## Training and Averaging"
      ]
    },
    {
      "cell_type": "code",
      "execution_count": null,
      "metadata": {
        "colab": {
          "background_save": true,
          "base_uri": "https://localhost:8080/"
        },
        "id": "UZRLmUmKWx75",
        "outputId": "f680ddbb-9d88-4136-c04c-72a62cf0f419"
      },
      "outputs": [
        {
          "name": "stderr",
          "output_type": "stream",
          "text": [
            "Progress Bar: 100%|██████████| 100/100 [01:15<00:00,  1.33it/s]\n"
          ]
        },
        {
          "name": "stdout",
          "output_type": "stream",
          "text": [
            "151/151 [==============================] - 1s 7ms/step\n",
            "comm_round: 0 | global_acc: 68.901% | global_loss: 0.6840079426765442\n"
          ]
        },
        {
          "name": "stderr",
          "output_type": "stream",
          "text": [
            "Progress Bar: 100%|██████████| 100/100 [01:07<00:00,  1.49it/s]\n"
          ]
        },
        {
          "name": "stdout",
          "output_type": "stream",
          "text": [
            "151/151 [==============================] - 1s 7ms/step\n",
            "comm_round: 1 | global_acc: 68.901% | global_loss: 0.6785796284675598\n"
          ]
        },
        {
          "name": "stderr",
          "output_type": "stream",
          "text": [
            "Progress Bar:  20%|██        | 20/100 [00:13<00:50,  1.59it/s]"
          ]
        }
      ],
      "source": [
        "#commence global training loop\n",
        "for comm_round in range(comms_round):\n",
        "\n",
        "    # get the global model's weights - will serve as the initial weights for all local models\n",
        "    global_weights = global_model.get_weights()\n",
        "\n",
        "    #initial list to collect local model weights after scalling\n",
        "    scaled_local_weight_list = list()\n",
        "\n",
        "    #randomize client data - using keys\n",
        "    client_names= list(clients_batched.keys())\n",
        "    random.shuffle(client_names)\n",
        "\n",
        "    #loop through each client and create new local model\n",
        "    # i = 1\n",
        "    for client in tqdm(client_names , desc = 'Progress Bar'):\n",
        "        #time.sleep(0.5)\n",
        "        smlp_local = SimpleMLP()\n",
        "        local_model = smlp_local.build(data_list.shape[1],len(labels))\n",
        "        local_model.compile(loss=loss,\n",
        "                      optimizer=optimizer,\n",
        "                      metrics=metrics)\n",
        "\n",
        "        #print(local_model.summary())\n",
        "        #print(clients_batched)\n",
        "        #set local model weight to the weight of the global model\n",
        "        local_model.set_weights(global_weights)\n",
        "\n",
        "        #fit local model with client's data\n",
        "        local_model.fit(clients_batched[client], epochs=1, verbose=0)\n",
        "\n",
        "        #scale the model weights and add to list\n",
        "        scaling_factor = weight_scalling_factor(clients_batched, client)\n",
        "        scaled_weights = scale_model_weights(local_model.get_weights(), scaling_factor)\n",
        "        scaled_local_weight_list.append(scaled_weights)\n",
        "        # print('Client',i, 'is posting data')\n",
        "        # i += 1\n",
        "        # data_post(acc_add[i], acc_pk[i], scaled_weights)\n",
        "\n",
        "        #clear session to free memory after each communication round\n",
        "        K.clear_session()\n",
        "\n",
        "    #update global model\n",
        "    average_weights = sum_scaled_weights(scaled_local_weight_list)\n",
        "    global_model.set_weights(average_weights)\n",
        "\n",
        "    #test global model and print out metrics after each communications round\n",
        "    for(X_test, Y_test) in test_batched:\n",
        "        global_acc, global_loss = test_model(X_test, Y_test, global_model, comm_round)\n"
      ]
    },
    {
      "cell_type": "code",
      "execution_count": null,
      "metadata": {
        "id": "rHnS8zl8XZaa"
      },
      "outputs": [],
      "source": [
        "# NTS: TRY TO CHANGE THE BATCH SIZE TO 3200 I.E. 32*100 FOR 100 CLIENTS.\n",
        "SGD_dataset = tf.data.Dataset.from_tensor_slices((X_train, y_train)).shuffle(len(y_train)).batch(320)\n",
        "smlp_SGD = SimpleMLP()\n",
        "SGD_model = smlp_SGD.build(data_list.shape[1], len(labels))\n",
        "\n",
        "SGD_model.compile(loss=loss,\n",
        "              optimizer=optimizer,\n",
        "              metrics=metrics)"
      ]
    },
    {
      "cell_type": "code",
      "execution_count": null,
      "metadata": {
        "id": "7H8k95bpXaS5"
      },
      "outputs": [],
      "source": [
        "# fit the SGD training data to model\n",
        "_ = SGD_model.fit(SGD_dataset, epochs=100, verbose=0)"
      ]
    },
    {
      "cell_type": "code",
      "execution_count": null,
      "metadata": {
        "colab": {
          "base_uri": "https://localhost:8080/"
        },
        "id": "zWMN63yIXd63",
        "outputId": "b28ac2f1-01ed-4c7a-f21f-40a43ac6a334"
      },
      "outputs": [
        {
          "name": "stdout",
          "output_type": "stream",
          "text": [
            "76/76 [==============================] - 1s 7ms/step\n",
            "comm_round: 1 | global_acc: 69.734% | global_loss: 0.6598128080368042\n"
          ]
        }
      ],
      "source": [
        "#test the SGD global model and print out metrics\n",
        "for(X_test, Y_test) in test_batched:\n",
        "        SGD_acc, SGD_loss = test_model(X_test, Y_test, SGD_model, 1)"
      ]
    }
  ],
  "metadata": {
    "colab": {
      "provenance": []
    },
    "kernelspec": {
      "display_name": "Python 3",
      "name": "python3"
    },
    "language_info": {
      "name": "python"
    }
  },
  "nbformat": 4,
  "nbformat_minor": 0
}