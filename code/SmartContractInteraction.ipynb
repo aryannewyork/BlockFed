{
  "nbformat": 4,
  "nbformat_minor": 0,
  "metadata": {
    "colab": {
      "provenance": []
    },
    "kernelspec": {
      "name": "python3",
      "display_name": "Python 3"
    },
    "language_info": {
      "name": "python"
    }
  },
  "cells": [
    {
      "cell_type": "markdown",
      "source": [
        "## Installing Required Packages"
      ],
      "metadata": {
        "id": "9IOgqwtfc9aN"
      }
    },
    {
      "cell_type": "code",
      "execution_count": null,
      "metadata": {
        "id": "03pJaY8uj33s"
      },
      "outputs": [],
      "source": [
        "# !pip install web3"
      ]
    },
    {
      "cell_type": "markdown",
      "source": [
        " ### gas price:4 gwei"
      ],
      "metadata": {
        "id": "k1VCvuZr6hiu"
      }
    },
    {
      "cell_type": "code",
      "source": [
        "# !pip install --force-reinstall jsonschema==3.2.0\n",
        "# exit()"
      ],
      "metadata": {
        "id": "wR_9Rr00kYaR"
      },
      "execution_count": null,
      "outputs": []
    },
    {
      "cell_type": "code",
      "source": [
        "!pip install py-solc-x"
      ],
      "metadata": {
        "id": "jtdgFBHcn0Kw"
      },
      "execution_count": null,
      "outputs": []
    },
    {
      "cell_type": "code",
      "source": [
        "import time\n",
        "import json\n",
        "from web3 import Web3\n",
        "from solcx import compile_standard, install_solc"
      ],
      "metadata": {
        "id": "UPgaPcebkeU2"
      },
      "execution_count": null,
      "outputs": []
    },
    {
      "cell_type": "code",
      "source": [
        "from google.colab import drive\n",
        "drive.mount('/content/drive')"
      ],
      "metadata": {
        "colab": {
          "base_uri": "https://localhost:8080/"
        },
        "id": "UHWfnngJjGqJ",
        "outputId": "225cecb6-78fc-42e1-ed39-40196bf616ec"
      },
      "execution_count": null,
      "outputs": [
        {
          "output_type": "stream",
          "name": "stdout",
          "text": [
            "Mounted at /content/drive\n"
          ]
        }
      ]
    },
    {
      "cell_type": "markdown",
      "source": [
        "## Connecting to Test Network : Tunneled Ganache"
      ],
      "metadata": {
        "id": "d6KYxxuCshJH"
      }
    },
    {
      "cell_type": "code",
      "source": [
        "# Connecting to local instance of ganche tunneled using ngrok\n",
        "# Run a local instance of ganache-cli on ubuntu (current run env) and tunnel the http port (ngrok http 8545, for ganache)\n",
        "# After tunneling the local blockahin network (ganache) should be accessible online (Google Colab Notebook)\n",
        "web3 = Web3(Web3.HTTPProvider(\"https://1c97-192-214-232-26.ngrok-free.app\"))\n",
        "web3.is_connected()"
      ],
      "metadata": {
        "colab": {
          "base_uri": "https://localhost:8080/"
        },
        "id": "qtVDkvs0sgar",
        "outputId": "6381a3ca-9040-4bd2-8295-c8ef4a9b0862"
      },
      "execution_count": null,
      "outputs": [
        {
          "output_type": "execute_result",
          "data": {
            "text/plain": [
              "True"
            ]
          },
          "metadata": {},
          "execution_count": 3
        }
      ]
    },
    {
      "cell_type": "code",
      "source": [
        "with open(\"/content/drive/MyDrive/Smart Contracts/Main.sol\", \"r\") as file:\n",
        "    contract = file.read()"
      ],
      "metadata": {
        "id": "xnLSE7jon_rG"
      },
      "execution_count": null,
      "outputs": []
    },
    {
      "cell_type": "markdown",
      "source": [
        "## Installing the correct version of Solidity"
      ],
      "metadata": {
        "id": "vhDAo-CuoOGg"
      }
    },
    {
      "cell_type": "code",
      "source": [
        "solc_version = '0.8.12'\n",
        "install_solc(solc_version)"
      ],
      "metadata": {
        "colab": {
          "base_uri": "https://localhost:8080/"
        },
        "id": "ie35y8IDoM1m",
        "outputId": "af92c89d-212d-4333-e2cb-7d45221f2ea5"
      },
      "execution_count": null,
      "outputs": [
        {
          "output_type": "execute_result",
          "data": {
            "text/plain": [
              "Version('0.8.2')"
            ]
          },
          "metadata": {},
          "execution_count": 5
        }
      ]
    },
    {
      "cell_type": "code",
      "source": [
        "compiled_sol = compile_standard(\n",
        "    {\n",
        "        \"language\": \"Solidity\",\n",
        "        \"sources\": {\"Main.sol\": {\"content\": contract}},\n",
        "        \"settings\": {\n",
        "            \"outputSelection\": {\n",
        "                \"*\": {\n",
        "                    \"*\": [\"abi\", \"metadata\", \"evm.bytecode\", \"evm.bytecode.sourceMap\"]\n",
        "                }\n",
        "            }\n",
        "        },\n",
        "    },\n",
        "    solc_version=solc_version,\n",
        ")\n",
        "\n",
        "print('Smart contract is compiled successfully', compiled_sol)\n",
        "\n",
        "with open(\"compiled_code.json\", \"w\") as file:\n",
        "    json.dump(compiled_sol, file)"
      ],
      "metadata": {
        "colab": {
          "base_uri": "https://localhost:8080/"
        },
        "id": "WnDSsddtoaSq",
        "outputId": "c15f18cc-dbf0-4fb5-e7d1-51f049a76935"
      },
      "execution_count": null,
      "outputs": [
        {
          "output_type": "stream",
          "name": "stdout",
          "text": [
            "Smart contract is compiled successfully {'contracts': {'Main.sol': {'Main': {'abi': [{'inputs': [], 'name': 'retrieve', 'outputs': [{'internalType': 'uint256', 'name': '', 'type': 'uint256'}], 'stateMutability': 'view', 'type': 'function'}, {'inputs': [{'internalType': 'uint256', 'name': 'num', 'type': 'uint256'}], 'name': 'store', 'outputs': [], 'stateMutability': 'nonpayable', 'type': 'function'}], 'evm': {'bytecode': {'generatedSources': [], 'linkReferences': {}, 'object': '608060405234801561001057600080fd5b5061012f806100206000396000f3fe6080604052348015600f57600080fd5b506004361060325760003560e01c80632e64cec11460375780636057361d146051575b600080fd5b603d6069565b6040516048919060c2565b60405180910390f35b6067600480360381019060639190608f565b6072565b005b60008054905090565b8060008190555050565b60008135905060898160e5565b92915050565b60006020828403121560a057600080fd5b600060ac84828501607c565b91505092915050565b60bc8160db565b82525050565b600060208201905060d5600083018460b5565b92915050565b6000819050919050565b60ec8160db565b811460f657600080fd5b5056fea2646970667358221220a46d49e7b3afe42a01969b0b21f10b25e18345c759772c0b14e61a385edb46b264736f6c63430008020033', 'opcodes': 'PUSH1 0x80 PUSH1 0x40 MSTORE CALLVALUE DUP1 ISZERO PUSH2 0x10 JUMPI PUSH1 0x0 DUP1 REVERT JUMPDEST POP PUSH2 0x12F DUP1 PUSH2 0x20 PUSH1 0x0 CODECOPY PUSH1 0x0 RETURN INVALID PUSH1 0x80 PUSH1 0x40 MSTORE CALLVALUE DUP1 ISZERO PUSH1 0xF JUMPI PUSH1 0x0 DUP1 REVERT JUMPDEST POP PUSH1 0x4 CALLDATASIZE LT PUSH1 0x32 JUMPI PUSH1 0x0 CALLDATALOAD PUSH1 0xE0 SHR DUP1 PUSH4 0x2E64CEC1 EQ PUSH1 0x37 JUMPI DUP1 PUSH4 0x6057361D EQ PUSH1 0x51 JUMPI JUMPDEST PUSH1 0x0 DUP1 REVERT JUMPDEST PUSH1 0x3D PUSH1 0x69 JUMP JUMPDEST PUSH1 0x40 MLOAD PUSH1 0x48 SWAP2 SWAP1 PUSH1 0xC2 JUMP JUMPDEST PUSH1 0x40 MLOAD DUP1 SWAP2 SUB SWAP1 RETURN JUMPDEST PUSH1 0x67 PUSH1 0x4 DUP1 CALLDATASIZE SUB DUP2 ADD SWAP1 PUSH1 0x63 SWAP2 SWAP1 PUSH1 0x8F JUMP JUMPDEST PUSH1 0x72 JUMP JUMPDEST STOP JUMPDEST PUSH1 0x0 DUP1 SLOAD SWAP1 POP SWAP1 JUMP JUMPDEST DUP1 PUSH1 0x0 DUP2 SWAP1 SSTORE POP POP JUMP JUMPDEST PUSH1 0x0 DUP2 CALLDATALOAD SWAP1 POP PUSH1 0x89 DUP2 PUSH1 0xE5 JUMP JUMPDEST SWAP3 SWAP2 POP POP JUMP JUMPDEST PUSH1 0x0 PUSH1 0x20 DUP3 DUP5 SUB SLT ISZERO PUSH1 0xA0 JUMPI PUSH1 0x0 DUP1 REVERT JUMPDEST PUSH1 0x0 PUSH1 0xAC DUP5 DUP3 DUP6 ADD PUSH1 0x7C JUMP JUMPDEST SWAP2 POP POP SWAP3 SWAP2 POP POP JUMP JUMPDEST PUSH1 0xBC DUP2 PUSH1 0xDB JUMP JUMPDEST DUP3 MSTORE POP POP JUMP JUMPDEST PUSH1 0x0 PUSH1 0x20 DUP3 ADD SWAP1 POP PUSH1 0xD5 PUSH1 0x0 DUP4 ADD DUP5 PUSH1 0xB5 JUMP JUMPDEST SWAP3 SWAP2 POP POP JUMP JUMPDEST PUSH1 0x0 DUP2 SWAP1 POP SWAP2 SWAP1 POP JUMP JUMPDEST PUSH1 0xEC DUP2 PUSH1 0xDB JUMP JUMPDEST DUP2 EQ PUSH1 0xF6 JUMPI PUSH1 0x0 DUP1 REVERT JUMPDEST POP JUMP INVALID LOG2 PUSH5 0x6970667358 0x22 SLT KECCAK256 LOG4 PUSH14 0x49E7B3AFE42A01969B0B21F10B25 0xE1 DUP4 GASLIMIT 0xC7 MSIZE PUSH24 0x2C0B14E61A385EDB46B264736F6C63430008020033000000 ', 'sourceMap': '199:353:0:-:0;;;;;;;;;;;;;;;;;;;'}}, 'metadata': '{\"compiler\":{\"version\":\"0.8.2+commit.661d1103\"},\"language\":\"Solidity\",\"output\":{\"abi\":[{\"inputs\":[],\"name\":\"retrieve\",\"outputs\":[{\"internalType\":\"uint256\",\"name\":\"\",\"type\":\"uint256\"}],\"stateMutability\":\"view\",\"type\":\"function\"},{\"inputs\":[{\"internalType\":\"uint256\",\"name\":\"num\",\"type\":\"uint256\"}],\"name\":\"store\",\"outputs\":[],\"stateMutability\":\"nonpayable\",\"type\":\"function\"}],\"devdoc\":{\"custom:dev-run-script\":\"./scripts/deploy_with_ethers.ts\",\"details\":\"Store & retrieve value in a variable\",\"kind\":\"dev\",\"methods\":{\"retrieve()\":{\"details\":\"Return value \",\"returns\":{\"_0\":\"value of \\'number\\'\"}},\"store(uint256)\":{\"details\":\"Store value in variable\",\"params\":{\"num\":\"value to store\"}}},\"title\":\"Storage\",\"version\":1},\"userdoc\":{\"kind\":\"user\",\"methods\":{},\"version\":1}},\"settings\":{\"compilationTarget\":{\"Main.sol\":\"Main\"},\"evmVersion\":\"istanbul\",\"libraries\":{},\"metadata\":{\"bytecodeHash\":\"ipfs\"},\"optimizer\":{\"enabled\":false,\"runs\":200},\"remappings\":[]},\"sources\":{\"Main.sol\":{\"keccak256\":\"0xd743666489647c1d2e6395b89b9cc93884a3716088e9a38d18b875cc543cf791\",\"license\":\"GPL-3.0\",\"urls\":[\"bzz-raw://2e5e3ab3f96e72ffa84f18bbfba3b535b6015e35a2d602bc52ff733b42ac5aec\",\"dweb:/ipfs/QmPBUiYFeq7ryT4QYA8G7gRrCMZzCCrLMhRgRYyhcELk89\"]}},\"version\":1}'}}}, 'sources': {'Main.sol': {'id': 0}}}\n"
          ]
        }
      ]
    },
    {
      "cell_type": "code",
      "source": [
        "abi = json.loads(compiled_sol[\"contracts\"][\"Main.sol\"][\"Main\"][\"metadata\"])[\"output\"][\"abi\"]\n",
        "bytecode = compiled_sol[\"contracts\"][\"Main.sol\"][\"Main\"][\"evm\"][\"bytecode\"][\"object\"]"
      ],
      "metadata": {
        "id": "ZVTZHJL9puC-"
      },
      "execution_count": null,
      "outputs": []
    },
    {
      "cell_type": "markdown",
      "source": [
        "## Deploying contract on ganche local network"
      ],
      "metadata": {
        "id": "2CP4UWpOsodN"
      }
    },
    {
      "cell_type": "markdown",
      "source": [
        "Try to deploy the smart contract on ganache using https://coinsbench.com/how-to-deploy-and-interact-with-solidity-contracts-with-python-and-ganache-be63334323e6\n"
      ],
      "metadata": {
        "id": "W6ZaeA1Cs2yl"
      }
    },
    {
      "cell_type": "code",
      "source": [
        "def sendeth(address_from, private_key, address_to, val):\n",
        "  nonce = web3.eth.get_transaction_count(address_from)\n",
        "  tx = {\n",
        "      'gas': 2000000,\n",
        "      'gasPrice': web3.eth.gas_price,\n",
        "      'nonce': nonce,\n",
        "      'to': address_to,\n",
        "      'value': web3.to_wei(str(val), 'ether'),\n",
        "  }\n",
        "  signed_txn = web3.eth.account.sign_transaction(tx, private_key)\n",
        "  tx_hash = web3.eth.send_raw_transaction(signed_txn.rawTransaction)\n",
        "  Loop = 0\n",
        "  while(Loop < 10):\n",
        "    try:\n",
        "      tx_receipt = web3.eth.get_transaction_receipt(tx_hash)\n",
        "      print(tx_receipt)\n",
        "      break\n",
        "    except:\n",
        "      print('Waiting')\n",
        "      time.sleep(10)\n",
        "      Loop += 1"
      ],
      "metadata": {
        "id": "fl7TyTLRwPoA"
      },
      "execution_count": null,
      "outputs": []
    },
    {
      "cell_type": "code",
      "source": [
        "# Make sure to run ganache with -d flag to create the same accounts deterministically.\n",
        "\n",
        "ganache_pk = [\n",
        "    '0x4f3edf983ac636a65a842ce7c78d9aa706d3b113bce9c46f30d7d21715b23b1d',\n",
        "    '0x6cbed15c793ce57650b9877cf6fa156fbef513c4e6134f022a85b1ffdd59b2a1',\n",
        "    '0x6370fd033278c143179d81c5526140625662b8daa446c22ee2d73db3707e620c',\n",
        "    '0x646f1ce2fdad0e6deeeb5c7e8e5543bdde65e86029e2fd9fc169899c440a7913',\n",
        "    '0xadd53f9a7e588d003326d1cbf9e4a43c061aadd9bc938c843a79e7b4fd2ad743',\n",
        "    '0x395df67f0c2d2d9fe1ad08d1bc8b6627011959b79c53d7dd6a3536a33ab8a4fd',\n",
        "    '0xe485d098507f54e7733a205420dfddbe58db035fa577fc294ebd14db90767a52',\n",
        "    '0xa453611d9419d0e56f499079478fd72c37b251a94bfde4d19872c44cf65386e3',\n",
        "    '0x829e924fdf021ba3dbbc4225edfece9aca04b929d6e75613329ca6f1d31c0bb4',\n",
        "    '0xb0057716d5917badaf911b193b12b910811c1497b5bada8d7711f758981c3773'\n",
        "]"
      ],
      "metadata": {
        "id": "zIH3qQeBfKIm"
      },
      "execution_count": null,
      "outputs": []
    },
    {
      "cell_type": "code",
      "source": [
        "# Account details from which contract will be deployed\n",
        "deployment_account = web3.eth.account.create()\n",
        "\n",
        "deployment_account_add = deployment_account.address\n",
        "deployment_account_pk = deployment_account.key.hex()\n",
        "# Sending 90 ETH to the deployer's account\n",
        "sendeth(web3.eth.accounts[0], ganache_pk[0], deployment_account_add, 90)\n",
        "print(web3.eth.get_balance(deployment_account_add))\n",
        "\n",
        "# Create the contract instance\n",
        "Contract = web3.eth.contract(abi=abi, bytecode=bytecode)\n",
        "\n",
        "# Get the number of latest transaction\n",
        "nonce = web3.eth.get_transaction_count(deployment_account_add)\n",
        "\n",
        "# build transaction\n",
        "transaction = Contract.constructor().build_transaction(\n",
        "    {\n",
        "        \"chainId\": web3.eth.chain_id,\n",
        "        \"gasPrice\": web3.eth.gas_price,\n",
        "        'gas': 2000000,\n",
        "        # 'gasPrice': web3.to_wei('4', 'gwei'),\n",
        "        \"from\": deployment_account_add,\n",
        "        \"nonce\": nonce,\n",
        "    }\n",
        ")\n",
        "\n",
        "# Sign the transaction\n",
        "sign_transaction = web3.eth.account.sign_transaction(transaction, private_key=deployment_account_pk)\n",
        "print(\"Deploying Contract!\")\n",
        "# Send the transaction\n",
        "transaction_hash = web3.eth.send_raw_transaction(sign_transaction.rawTransaction)\n",
        "# Wait for the transaction to be mined, and get the transaction receipt\n",
        "print(\"Waiting for transaction to finish...\")\n",
        "transaction_receipt = web3.eth.wait_for_transaction_receipt(transaction_hash)\n",
        "contract_address = transaction_receipt.contractAddress\n",
        "print(f\"Done! Contract deployed to {contract_address}\")"
      ],
      "metadata": {
        "colab": {
          "base_uri": "https://localhost:8080/"
        },
        "id": "DS-hBhz_fOxn",
        "outputId": "7b63b6b0-d838-46e2-f2ef-aa6076d48e1b"
      },
      "execution_count": null,
      "outputs": [
        {
          "output_type": "stream",
          "name": "stdout",
          "text": [
            "AttributeDict({'transactionHash': HexBytes('0xcfd96d3f318d95e8dbfe294d0cdd54ae8332395998d5992c9b61c20570b9a416'), 'transactionIndex': 0, 'blockHash': HexBytes('0xb2926238127dd2c8a622bef9bb5bb7ef81887b0596b4993d91de056d5699b6bb'), 'blockNumber': 1, 'from': '0x90F8bf6A479f320ead074411a4B0e7944Ea8c9C1', 'to': '0x2c0FF54b50A2B4834D1d7cD5282d3BC81A9bb5D9', 'gasUsed': 21000, 'cumulativeGasUsed': 21000, 'contractAddress': None, 'logs': [], 'status': 1, 'logsBloom': HexBytes('0x00000000000000000000000000000000000000000000000000000000000000000000000000000000000000000000000000000000000000000000000000000000000000000000000000000000000000000000000000000000000000000000000000000000000000000000000000000000000000000000000000000000000000000000000000000000000000000000000000000000000000000000000000000000000000000000000000000000000000000000000000000000000000000000000000000000000000000000000000000000000000000000000000000000000000000000000000000000000000000000000000000000000000000000000000000000')})\n",
            "90000000000000000000\n",
            "Deploying Contract!\n",
            "Waiting for transaction to finish...\n",
            "Done! Contract deployed to 0x56230f25ec53E0b2767Ef735bfb45f00412EF836\n"
          ]
        }
      ]
    },
    {
      "cell_type": "code",
      "source": [
        "contract = web3.eth.contract(address = contract_address, abi = abi)"
      ],
      "metadata": {
        "id": "I_B5v64ssAmP"
      },
      "execution_count": null,
      "outputs": []
    },
    {
      "cell_type": "markdown",
      "source": [
        "## Client Accounts"
      ],
      "metadata": {
        "id": "VGilui0-0HHD"
      }
    },
    {
      "cell_type": "code",
      "source": [
        "acc_add = []\n",
        "acc_pk = []\n",
        "NUM_ACCOUNTS = 100\n",
        "acc_index = 1\n",
        "for i in range(NUM_ACCOUNTS):\n",
        "  print('Account',i)\n",
        "  acc = web3.eth.account.create()\n",
        "  acc_add.append(acc.address)\n",
        "  acc_pk.append(acc.key.hex())\n",
        "  try:\n",
        "    sendeth(web3.eth.accounts[acc_index], ganache_pk[acc_index], acc.address, 1)\n",
        "  except:\n",
        "    acc_index += 1\n",
        "    sendeth(web3.eth.accounts[acc_index], ganache_pk[acc_index], acc.address, 1)\n"
      ],
      "metadata": {
        "id": "dGgNOR2O0Mv8"
      },
      "execution_count": null,
      "outputs": []
    },
    {
      "cell_type": "markdown",
      "source": [
        "## Functions from smart contract"
      ],
      "metadata": {
        "id": "Lb_cR0nUdUWP"
      }
    },
    {
      "cell_type": "code",
      "source": [
        "def make_me_client(account_address, private_key):\n",
        "  nonce = web3.eth.get_transaction_count(account_address)\n",
        "  buildData = {\n",
        "      'from': account_address,\n",
        "      'chainId': web3.eth.chain_id,\n",
        "      'gas': 2000000,\n",
        "      'gasPrice': web3.eth.gas_price,\n",
        "      'nonce': nonce,\n",
        "  }\n",
        "  txn_dict = contract.functions.makemeclient().build_transaction(buildData)\n",
        "  signed_txn = web3.eth.account.sign_transaction(txn_dict, private_key)\n",
        "  tx_hash = web3.eth.send_raw_transaction(signed_txn.rawTransaction)\n",
        "  Loop = 0\n",
        "  while(Loop < 10):\n",
        "    try:\n",
        "      tx_receipt = web3.eth.get_transaction_receipt(tx_hash)\n",
        "      print(tx_receipt)\n",
        "      break\n",
        "    except:\n",
        "      print('Waiting')\n",
        "      time.sleep(10)\n",
        "      Loop += 1"
      ],
      "metadata": {
        "id": "jO4o96E-zWyI"
      },
      "execution_count": null,
      "outputs": []
    },
    {
      "cell_type": "code",
      "source": [
        "# for now modelId = 0\n",
        "def data_post(account_address, private_key, clientData, modelId=0):\n",
        "  nonce = web3.eth.get_transaction_count(account_address)\n",
        "  buildData = {\n",
        "      'from': account_address,\n",
        "      'chainId': web3.eth.chain_id,\n",
        "      'gas': 200000,\n",
        "      'gasPrice': web3.eth.gas_price,\n",
        "      'nonce': nonce,\n",
        "  }\n",
        "  txn_dict = contract.functions.data_post(modelId, clientData).build_transaction(buildData)\n",
        "  signed_txn = web3.eth.account.sign_transaction(txn_dict, private_key)\n",
        "  tx_hash = web3.eth.send_raw_transaction(signed_txn.rawTransaction)\n",
        "  Loop = 0\n",
        "  while(Loop < 10):\n",
        "    try:\n",
        "      tx_receipt = web3.eth.get_transaction_receipt(tx_hash)\n",
        "      print(tx_receipt)\n",
        "      break\n",
        "    except:\n",
        "      print('Waiting')\n",
        "      time.sleep(10)\n",
        "      Loop += 1"
      ],
      "metadata": {
        "id": "iyZe7ashUKMw"
      },
      "execution_count": null,
      "outputs": []
    },
    {
      "cell_type": "code",
      "source": [
        "def model_aggregation(account_address, private_key, modelId=0):\n",
        "  nonce = web3.eth.get_transaction_count(account_address)\n",
        "  buildData = {\n",
        "      'from': account_address,\n",
        "      'chainId': web3.eth.chain_id,\n",
        "      'gas': 200000,\n",
        "      'gasPrice': web3.eth.gas_price,\n",
        "      'nonce': nonce,\n",
        "  }\n",
        "  txn_dict = contract.functions.model_aggregation(modelId).build_transaction(buildData)\n",
        "  signed_txn = web3.eth.account.sign_transaction(txn_dict, private_key)\n",
        "  tx_hash = web3.eth.send_raw_transaction(signed_txn.rawTransaction)\n",
        "  Loop = 0\n",
        "  while(Loop < 10):\n",
        "    try:\n",
        "      tx_receipt = web3.eth.get_transaction_receipt(tx_hash)\n",
        "      print(tx_receipt)\n",
        "      break\n",
        "    except:\n",
        "      print('Waiting')\n",
        "      time.sleep(10)\n",
        "      Loop += 1\n"
      ],
      "metadata": {
        "id": "lEz2mC16ab79"
      },
      "execution_count": null,
      "outputs": []
    },
    {
      "cell_type": "code",
      "source": [
        "def read_index(account_address, private_key, clientIndex=0, modelId=0):\n",
        "  nonce = web3.eth.get_transaction_count(account_address)\n",
        "  buildData = {\n",
        "      'from': account_address,\n",
        "      'chainId': web3.eth.chain_id,\n",
        "      'gas': 200000,\n",
        "      'gasPrice': web3.eth.gas_price,\n",
        "      'nonce': nonce,\n",
        "  }\n",
        "  txn_dict = contract.functions.readindex(clientIndex, modelId).build_transaction(buildData)\n",
        "  signed_txn = web3.eth.account.sign_transaction(txn_dict, private_key)\n",
        "  tx_hash = web3.eth.send_raw_transaction(signed_txn.rawTransaction)\n",
        "  Loop = 0\n",
        "  while(Loop < 10):\n",
        "    try:\n",
        "      tx_receipt = web3.eth.get_transaction_receipt(tx_hash)\n",
        "      print(tx_receipt)\n",
        "      break\n",
        "    except:\n",
        "      print('Waiting')\n",
        "      time.sleep(10)\n",
        "      Loop += 1"
      ],
      "metadata": {
        "id": "SES1VqXbfiiu"
      },
      "execution_count": null,
      "outputs": []
    },
    {
      "cell_type": "code",
      "source": [
        "def data_request(account_address, private_key, clientIndex=0, modelId=0):\n",
        "  nonce = web3.eth.get_transaction_count(account_address)\n",
        "  buildData = {\n",
        "      'from': account_address,\n",
        "      'chainId': web3.eth.chain_id,\n",
        "      'gas': 200000,\n",
        "      'gasPrice': web3.eth.gas_price,\n",
        "      'nonce': nonce,\n",
        "      'value': web3.to_wei('17', 'gwei'),\n",
        "  }\n",
        "  txn_dict = contract.functions.data_request().build_transaction(buildData)\n",
        "  signed_txn = web3.eth.account.sign_transaction(txn_dict, private_key)\n",
        "  tx_hash = web3.eth.send_raw_transaction(signed_txn.rawTransaction)\n",
        "  Loop = 0\n",
        "  while(Loop < 10):\n",
        "    try:\n",
        "      tx_receipt = web3.eth.get_transaction_receipt(tx_hash)\n",
        "      print(tx_receipt)\n",
        "      break\n",
        "    except:\n",
        "      print('Waiting')\n",
        "      time.sleep(10)\n",
        "      Loop += 1"
      ],
      "metadata": {
        "id": "5C09ctxW8J5-"
      },
      "execution_count": null,
      "outputs": []
    },
    {
      "cell_type": "code",
      "source": [
        "# web3 = Web3(Web3.HTTPProvider(\"https://sepolia.infura.io/v3/5ba2715a3ef74bfc8da221c19851574d\"))\n",
        "\n",
        "# !pip install eth_account\n",
        "# from eth_account import Account\n",
        "# NUM_ACCOUNTS = 5\n",
        "# acc_add = []\n",
        "# acc_pk = []\n",
        "# for i in range(NUM_ACCOUNTS):\n",
        "#   acct = Account.create(str(i))\n",
        "#   acc_add.append(acct.address)\n",
        "#   acc_pk.append(acct.key)\n",
        "\n",
        "# web3.eth.get_balance('0x984C96861ED9055e9ce32cB4aB898F6aE0C09ACd')\n",
        "\n",
        "# contract_address = '0xBb07932603A931293d4a89e278CE2Af4FD78c553'\n",
        "# # First 4 accounts (clients) are acting as trainers,\n",
        "# # Next 2 are level 1 aggregators, last is level 2 aggregator (2 level Hierarchal Aggregation)\n",
        "# account_addresses = ['0x09750F3e65bBA855AA69cD33877015b02E4Ac16E',\n",
        "#                      '0xF6EF9953675cfF6C9ebd98e8f9B9c58Eb695e74F',\n",
        "#                      '0x8F72170d5601E8cE8f731B7da4C72Abc626Bb2e2',\n",
        "#                      '0xec4D250654042A372f6e779e1d325A6754D74bb6',\n",
        "#                      '0xf0AafaAC8b6D258dEE872b1bE8E30283152e420B',\n",
        "#                      '0x8A3057cCD0602ba4Fd125eAf97c9d4E21974D613',\n",
        "#                      '0x8d6309Be92dC1513F41E922C5c42bdE91edDB7B3'\n",
        "#                      ]\n",
        "# private_keys = ['f06c206f2e21d1f5a6299e3f676dbb2cd26f8ffa993addaa8cc51d50a2798150',\n",
        "#                 'c083222f68780a4c2777ec7e983e330ab171ae64ff07c711dca0a77709608fbc',\n",
        "#                 '5179b171ad691f6d1af4f5e4ee0d660fd5268e6d6792225a80ef61437082caaa',\n",
        "#                 '41443d9d841927fa58c11e529cfc8085fd9739fe52a3d3ec4239693c48ca6d45',\n",
        "#                 'c4a89b349d3ace91cc45e4fc8bf17562721d9633032b6124df5f3ddc4d1aa687',\n",
        "#                 '2c407847a0bce1b89bb5073b937e73078b5fb7b8692e2bdaf51ab3d80417f1a5',\n",
        "#                 'c84c8acc342a8f54fa952af8e1142e2b55972071d7c7c705aadf7033d9fc97c1'\n",
        "#                 ]\n"
      ],
      "metadata": {
        "id": "ky4Ofge1rlFD"
      },
      "execution_count": null,
      "outputs": []
    },
    {
      "cell_type": "markdown",
      "source": [
        "## REFERANCES\n",
        "\n",
        "1. https://medium.com/@mweiss.eth/send-ether-with-web3-py-python-bd0e8e85e93e (Sending Eth between accounts)\n",
        "2. https://ethereum.stackexchange.com/questions/69831/ganache-cli-how-to-persist-new-created-accounts (Deterministically setting up Ganache local network)\n",
        "3. https://www.alchemy.com/gwei-calculator (Currency Conversions)\n",
        "4. https://coinsbench.com/how-to-deploy-and-interact-with-solidity-contracts-with-python-and-ganache-be63334323e6 (Deploying SC via Google Colab on local ganche network)\n",
        "5. https://web3js.readthedocs.io/en/v1.2.11/web3-eth-accounts.html (Web3 API)\n",
        "6. https://www.youtube.com/watch?v=DCxt9SAnkyc (Setting up ngrok)\n",
        "7. https://web3py.readthedocs.io/en/stable/transactions.html (Web3 API Transaction related docs)"
      ],
      "metadata": {
        "id": "cn8xdC0rzAr0"
      }
    }
  ]
}